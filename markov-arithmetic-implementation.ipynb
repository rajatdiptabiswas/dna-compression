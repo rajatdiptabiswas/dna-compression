{
 "cells": [
  {
   "cell_type": "markdown",
   "metadata": {},
   "source": [
    "# Markov Compression Implementation"
   ]
  },
  {
   "cell_type": "markdown",
   "metadata": {},
   "source": [
    "#### Setting up"
   ]
  },
  {
   "cell_type": "markdown",
   "metadata": {},
   "source": [
    "Sets precision to 5 decimal places"
   ]
  },
  {
   "cell_type": "code",
   "execution_count": 1,
   "metadata": {},
   "outputs": [
    {
     "data": {
      "text/plain": [
       "'%.5f'"
      ]
     },
     "execution_count": 1,
     "metadata": {},
     "output_type": "execute_result"
    }
   ],
   "source": [
    "%precision %.5f"
   ]
  },
  {
   "cell_type": "markdown",
   "metadata": {},
   "source": [
    "DNA sequence to be compressed"
   ]
  },
  {
   "cell_type": "code",
   "execution_count": 2,
   "metadata": {},
   "outputs": [],
   "source": [
    "seq = 'AGTTGTTAGTCTACGTGGACCGACAAGAACAGTTTCGAATCGGAAGCTTGCTTAACGTAGTTCTAACAGTTTTTATTAGAGAGCAGATCT'"
   ]
  },
  {
   "cell_type": "code",
   "execution_count": 3,
   "metadata": {},
   "outputs": [
    {
     "data": {
      "text/plain": [
       "90"
      ]
     },
     "execution_count": 3,
     "metadata": {},
     "output_type": "execute_result"
    }
   ],
   "source": [
    "len(seq)"
   ]
  },
  {
   "cell_type": "markdown",
   "metadata": {},
   "source": [
    "Assigns integer values for base"
   ]
  },
  {
   "cell_type": "code",
   "execution_count": 4,
   "metadata": {},
   "outputs": [],
   "source": [
    "seq_dict = {\n",
    "    'A' : 0,\n",
    "    'T' : 1,\n",
    "    'C' : 2,\n",
    "    'G' : 3\n",
    "}"
   ]
  },
  {
   "cell_type": "markdown",
   "metadata": {},
   "source": [
    "n is the number of unique symbols in the string"
   ]
  },
  {
   "cell_type": "code",
   "execution_count": 5,
   "metadata": {},
   "outputs": [],
   "source": [
    "n = len(set(seq))"
   ]
  },
  {
   "cell_type": "markdown",
   "metadata": {},
   "source": [
    "k is the order of the markov model"
   ]
  },
  {
   "cell_type": "code",
   "execution_count": 6,
   "metadata": {},
   "outputs": [],
   "source": [
    "k = 3"
   ]
  },
  {
   "cell_type": "markdown",
   "metadata": {},
   "source": [
    "The parameter c controls how much probability is assigned to unseen (but possible) events, and plays a key role in the case of high-order models"
   ]
  },
  {
   "cell_type": "code",
   "execution_count": 7,
   "metadata": {},
   "outputs": [],
   "source": [
    "c = 1"
   ]
  },
  {
   "cell_type": "markdown",
   "metadata": {},
   "source": [
    "Creates all the different permutations of strings for the contexts in the Markov model"
   ]
  },
  {
   "cell_type": "code",
   "execution_count": 8,
   "metadata": {},
   "outputs": [],
   "source": [
    "from itertools import product\n",
    "labels = [''.join(p) for p in product(seq_dict.keys(), repeat=k)]"
   ]
  },
  {
   "cell_type": "markdown",
   "metadata": {},
   "source": [
    "#### Creating the frequency table"
   ]
  },
  {
   "cell_type": "code",
   "execution_count": 9,
   "metadata": {},
   "outputs": [],
   "source": [
    "markov_freq = {}\n",
    "\n",
    "for x in labels:\n",
    "    markov_freq[x] = [0 for _ in range(n)]\n",
    "\n",
    "i = k\n",
    "while i < len(seq):\n",
    "    markov_freq[seq[i-k:i]][seq_dict[seq[i]]] += 1\n",
    "    i += 1"
   ]
  },
  {
   "cell_type": "code",
   "execution_count": 10,
   "metadata": {},
   "outputs": [
    {
     "data": {
      "text/plain": [
       "{'AAA': [0, 0, 0, 0],\n",
       " 'AAT': [0, 0, 1, 0],\n",
       " 'AAC': [2, 0, 0, 1],\n",
       " 'AAG': [1, 0, 1, 0],\n",
       " 'ATA': [0, 0, 0, 0],\n",
       " 'ATT': [1, 0, 0, 0],\n",
       " 'ATC': [0, 1, 0, 1],\n",
       " 'ATG': [0, 0, 0, 0],\n",
       " 'ACA': [1, 0, 0, 2],\n",
       " 'ACT': [0, 0, 0, 0],\n",
       " 'ACC': [0, 0, 0, 1],\n",
       " 'ACG': [0, 2, 0, 0],\n",
       " 'AGA': [1, 1, 0, 2],\n",
       " 'AGT': [0, 4, 1, 0],\n",
       " 'AGC': [1, 1, 0, 0],\n",
       " 'AGG': [0, 0, 0, 0],\n",
       " 'TAA': [0, 0, 2, 0],\n",
       " 'TAT': [0, 1, 0, 0],\n",
       " 'TAC': [0, 0, 0, 1],\n",
       " 'TAG': [1, 2, 0, 0],\n",
       " 'TTA': [1, 1, 0, 2],\n",
       " 'TTT': [1, 2, 1, 0],\n",
       " 'TTC': [0, 1, 0, 1],\n",
       " 'TTG': [0, 1, 1, 0],\n",
       " 'TCA': [0, 0, 0, 0],\n",
       " 'TCT': [2, 0, 0, 0],\n",
       " 'TCC': [0, 0, 0, 0],\n",
       " 'TCG': [1, 0, 0, 1],\n",
       " 'TGA': [0, 0, 0, 0],\n",
       " 'TGT': [0, 1, 0, 0],\n",
       " 'TGC': [0, 1, 0, 0],\n",
       " 'TGG': [1, 0, 0, 0],\n",
       " 'CAA': [0, 0, 0, 1],\n",
       " 'CAT': [0, 0, 0, 0],\n",
       " 'CAC': [0, 0, 0, 0],\n",
       " 'CAG': [1, 2, 0, 0],\n",
       " 'CTA': [1, 0, 1, 0],\n",
       " 'CTT': [1, 0, 0, 1],\n",
       " 'CTC': [0, 0, 0, 0],\n",
       " 'CTG': [0, 0, 0, 0],\n",
       " 'CCA': [0, 0, 0, 0],\n",
       " 'CCT': [0, 0, 0, 0],\n",
       " 'CCC': [0, 0, 0, 0],\n",
       " 'CCG': [1, 0, 0, 0],\n",
       " 'CGA': [1, 0, 1, 0],\n",
       " 'CGT': [1, 0, 0, 1],\n",
       " 'CGC': [0, 0, 0, 0],\n",
       " 'CGG': [1, 0, 0, 0],\n",
       " 'GAA': [0, 1, 1, 1],\n",
       " 'GAT': [0, 0, 1, 0],\n",
       " 'GAC': [1, 0, 1, 0],\n",
       " 'GAG': [1, 0, 1, 0],\n",
       " 'GTA': [0, 0, 0, 1],\n",
       " 'GTT': [1, 2, 1, 1],\n",
       " 'GTC': [0, 1, 0, 0],\n",
       " 'GTG': [0, 0, 0, 1],\n",
       " 'GCA': [0, 0, 0, 1],\n",
       " 'GCT': [0, 2, 0, 0],\n",
       " 'GCC': [0, 0, 0, 0],\n",
       " 'GCG': [0, 0, 0, 0],\n",
       " 'GGA': [1, 0, 1, 0],\n",
       " 'GGT': [0, 0, 0, 0],\n",
       " 'GGC': [0, 0, 0, 0],\n",
       " 'GGG': [0, 0, 0, 0]}"
      ]
     },
     "execution_count": 10,
     "metadata": {},
     "output_type": "execute_result"
    }
   ],
   "source": [
    "markov_freq"
   ]
  },
  {
   "cell_type": "markdown",
   "metadata": {},
   "source": [
    "#### Calculate probabilities from frequency table"
   ]
  },
  {
   "cell_type": "code",
   "execution_count": 11,
   "metadata": {},
   "outputs": [],
   "source": [
    "markov_prob = {}\n",
    "\n",
    "for x in labels:\n",
    "    markov_prob[x] = [0 for _ in range(n)]\n",
    "\n",
    "for key in markov_freq.keys():\n",
    "    arr = markov_freq[key]\n",
    "    total = sum(arr)\n",
    "    for i in range(n):\n",
    "        arr[i] = (arr[i]+c)/(total+(n*c))\n",
    "    markov_prob[key] = arr"
   ]
  },
  {
   "cell_type": "code",
   "execution_count": 12,
   "metadata": {},
   "outputs": [
    {
     "data": {
      "text/plain": [
       "{'AAA': [0.25000, 0.25000, 0.25000, 0.25000],\n",
       " 'AAT': [0.20000, 0.20000, 0.40000, 0.20000],\n",
       " 'AAC': [0.42857, 0.14286, 0.14286, 0.28571],\n",
       " 'AAG': [0.33333, 0.16667, 0.33333, 0.16667],\n",
       " 'ATA': [0.25000, 0.25000, 0.25000, 0.25000],\n",
       " 'ATT': [0.40000, 0.20000, 0.20000, 0.20000],\n",
       " 'ATC': [0.16667, 0.33333, 0.16667, 0.33333],\n",
       " 'ATG': [0.25000, 0.25000, 0.25000, 0.25000],\n",
       " 'ACA': [0.28571, 0.14286, 0.14286, 0.42857],\n",
       " 'ACT': [0.25000, 0.25000, 0.25000, 0.25000],\n",
       " 'ACC': [0.20000, 0.20000, 0.20000, 0.40000],\n",
       " 'ACG': [0.16667, 0.50000, 0.16667, 0.16667],\n",
       " 'AGA': [0.25000, 0.25000, 0.12500, 0.37500],\n",
       " 'AGT': [0.11111, 0.55556, 0.22222, 0.11111],\n",
       " 'AGC': [0.33333, 0.33333, 0.16667, 0.16667],\n",
       " 'AGG': [0.25000, 0.25000, 0.25000, 0.25000],\n",
       " 'TAA': [0.16667, 0.16667, 0.50000, 0.16667],\n",
       " 'TAT': [0.20000, 0.40000, 0.20000, 0.20000],\n",
       " 'TAC': [0.20000, 0.20000, 0.20000, 0.40000],\n",
       " 'TAG': [0.28571, 0.42857, 0.14286, 0.14286],\n",
       " 'TTA': [0.25000, 0.25000, 0.12500, 0.37500],\n",
       " 'TTT': [0.25000, 0.37500, 0.25000, 0.12500],\n",
       " 'TTC': [0.16667, 0.33333, 0.16667, 0.33333],\n",
       " 'TTG': [0.16667, 0.33333, 0.33333, 0.16667],\n",
       " 'TCA': [0.25000, 0.25000, 0.25000, 0.25000],\n",
       " 'TCT': [0.50000, 0.16667, 0.16667, 0.16667],\n",
       " 'TCC': [0.25000, 0.25000, 0.25000, 0.25000],\n",
       " 'TCG': [0.33333, 0.16667, 0.16667, 0.33333],\n",
       " 'TGA': [0.25000, 0.25000, 0.25000, 0.25000],\n",
       " 'TGT': [0.20000, 0.40000, 0.20000, 0.20000],\n",
       " 'TGC': [0.20000, 0.40000, 0.20000, 0.20000],\n",
       " 'TGG': [0.40000, 0.20000, 0.20000, 0.20000],\n",
       " 'CAA': [0.20000, 0.20000, 0.20000, 0.40000],\n",
       " 'CAT': [0.25000, 0.25000, 0.25000, 0.25000],\n",
       " 'CAC': [0.25000, 0.25000, 0.25000, 0.25000],\n",
       " 'CAG': [0.28571, 0.42857, 0.14286, 0.14286],\n",
       " 'CTA': [0.33333, 0.16667, 0.33333, 0.16667],\n",
       " 'CTT': [0.33333, 0.16667, 0.16667, 0.33333],\n",
       " 'CTC': [0.25000, 0.25000, 0.25000, 0.25000],\n",
       " 'CTG': [0.25000, 0.25000, 0.25000, 0.25000],\n",
       " 'CCA': [0.25000, 0.25000, 0.25000, 0.25000],\n",
       " 'CCT': [0.25000, 0.25000, 0.25000, 0.25000],\n",
       " 'CCC': [0.25000, 0.25000, 0.25000, 0.25000],\n",
       " 'CCG': [0.40000, 0.20000, 0.20000, 0.20000],\n",
       " 'CGA': [0.33333, 0.16667, 0.33333, 0.16667],\n",
       " 'CGT': [0.33333, 0.16667, 0.16667, 0.33333],\n",
       " 'CGC': [0.25000, 0.25000, 0.25000, 0.25000],\n",
       " 'CGG': [0.40000, 0.20000, 0.20000, 0.20000],\n",
       " 'GAA': [0.14286, 0.28571, 0.28571, 0.28571],\n",
       " 'GAT': [0.20000, 0.20000, 0.40000, 0.20000],\n",
       " 'GAC': [0.33333, 0.16667, 0.33333, 0.16667],\n",
       " 'GAG': [0.33333, 0.16667, 0.33333, 0.16667],\n",
       " 'GTA': [0.20000, 0.20000, 0.20000, 0.40000],\n",
       " 'GTT': [0.22222, 0.33333, 0.22222, 0.22222],\n",
       " 'GTC': [0.20000, 0.40000, 0.20000, 0.20000],\n",
       " 'GTG': [0.20000, 0.20000, 0.20000, 0.40000],\n",
       " 'GCA': [0.20000, 0.20000, 0.20000, 0.40000],\n",
       " 'GCT': [0.16667, 0.50000, 0.16667, 0.16667],\n",
       " 'GCC': [0.25000, 0.25000, 0.25000, 0.25000],\n",
       " 'GCG': [0.25000, 0.25000, 0.25000, 0.25000],\n",
       " 'GGA': [0.33333, 0.16667, 0.33333, 0.16667],\n",
       " 'GGT': [0.25000, 0.25000, 0.25000, 0.25000],\n",
       " 'GGC': [0.25000, 0.25000, 0.25000, 0.25000],\n",
       " 'GGG': [0.25000, 0.25000, 0.25000, 0.25000]}"
      ]
     },
     "execution_count": 12,
     "metadata": {},
     "output_type": "execute_result"
    }
   ],
   "source": [
    "markov_prob"
   ]
  },
  {
   "cell_type": "markdown",
   "metadata": {},
   "source": [
    "#### Performing arithmetic coding using the created probabilities"
   ]
  },
  {
   "cell_type": "markdown",
   "metadata": {},
   "source": [
    "Default equal probability distribution in case no context found"
   ]
  },
  {
   "cell_type": "code",
   "execution_count": 13,
   "metadata": {},
   "outputs": [],
   "source": [
    "default_prob = [1/n for _ in range(n)]"
   ]
  },
  {
   "cell_type": "markdown",
   "metadata": {},
   "source": [
    "Returns the range of decimal values that defines the current symbol\n",
    "\n",
    "Parameters:\n",
    "```\n",
    "- lr : array : [int, int] -> current range\n",
    "- prob_arr : array : [int, int, ..., int] -> list of probabilities of each symbol\n",
    "- index : int : index that is mapped to symbol e.g. A -> 0, T -> 1, C -> 2, G -> 3\n",
    "```"
   ]
  },
  {
   "cell_type": "code",
   "execution_count": 14,
   "metadata": {},
   "outputs": [],
   "source": [
    "def arithmetic_range(lr, prob_arr, index):\n",
    "    l,r = lr\n",
    "    diff = r-l\n",
    "    start = l + (sum(arr[:index]) * diff)\n",
    "    end = l + (sum(arr[:index+1]) * diff)\n",
    "    return [start, end]"
   ]
  },
  {
   "cell_type": "markdown",
   "metadata": {},
   "source": [
    "Returns the range of decimal values in [0, 1] for the input string"
   ]
  },
  {
   "cell_type": "code",
   "execution_count": 15,
   "metadata": {},
   "outputs": [],
   "source": [
    "def arithmetic_coding(string):\n",
    "    ac_range = [0,1]\n",
    "    for i in range(len(string)):\n",
    "        if i < k:\n",
    "            prob = default_prob\n",
    "        else:\n",
    "            prob = markov_prob[string[i-k:i]]\n",
    "        # print(prob)\n",
    "        ac_range = arithmetic_range(ac_range, prob, seq_dict[string[i]])\n",
    "        # print(ac_range, end='\\n\\n')\n",
    "    return ac_range"
   ]
  },
  {
   "cell_type": "code",
   "execution_count": 16,
   "metadata": {},
   "outputs": [
    {
     "data": {
      "text/plain": [
       "'%.200f'"
      ]
     },
     "execution_count": 16,
     "metadata": {},
     "output_type": "execute_result"
    }
   ],
   "source": [
    "%precision %.200f"
   ]
  },
  {
   "cell_type": "markdown",
   "metadata": {},
   "source": [
    "Calculate the range for given string"
   ]
  },
  {
   "cell_type": "code",
   "execution_count": 17,
   "metadata": {},
   "outputs": [
    {
     "data": {
      "text/plain": [
       "[0.21027905818727549158708711729559581726789474487304687500000000000000000000000000000000000000000000000000000000000000000000000000000000000000000000000000000000000000000000000000000000000000000000000000,\n",
       " 0.21027905818727549158708711729559581726789474487304687500000000000000000000000000000000000000000000000000000000000000000000000000000000000000000000000000000000000000000000000000000000000000000000000000]"
      ]
     },
     "execution_count": 17,
     "metadata": {},
     "output_type": "execute_result"
    }
   ],
   "source": [
    "ans_range = arithmetic_coding(seq)\n",
    "ans_range"
   ]
  },
  {
   "cell_type": "markdown",
   "metadata": {},
   "source": [
    "Function to return the middle value"
   ]
  },
  {
   "cell_type": "code",
   "execution_count": 18,
   "metadata": {},
   "outputs": [],
   "source": [
    "def mid(lr):\n",
    "    l,r = lr\n",
    "    return (l+r)/2"
   ]
  },
  {
   "cell_type": "markdown",
   "metadata": {},
   "source": [
    "Final answer to arithmetic coding"
   ]
  },
  {
   "cell_type": "code",
   "execution_count": 19,
   "metadata": {},
   "outputs": [
    {
     "data": {
      "text/plain": [
       "0.21027905818727549158708711729559581726789474487304687500000000000000000000000000000000000000000000000000000000000000000000000000000000000000000000000000000000000000000000000000000000000000000000000000"
      ]
     },
     "execution_count": 19,
     "metadata": {},
     "output_type": "execute_result"
    }
   ],
   "source": [
    "mid(ans_range)"
   ]
  },
  {
   "cell_type": "markdown",
   "metadata": {},
   "source": [
    "*Need to figure out how to store such a long decimal value efficiently and accurately in computer memory. Another research topic in itself.*"
   ]
  },
  {
   "cell_type": "markdown",
   "metadata": {},
   "source": [
    "#### Calculate space savings"
   ]
  },
  {
   "cell_type": "code",
   "execution_count": 20,
   "metadata": {},
   "outputs": [],
   "source": [
    "import sys"
   ]
  },
  {
   "cell_type": "code",
   "execution_count": 21,
   "metadata": {},
   "outputs": [
    {
     "data": {
      "text/plain": [
       "24"
      ]
     },
     "execution_count": 21,
     "metadata": {},
     "output_type": "execute_result"
    }
   ],
   "source": [
    "ans_size = sys.getsizeof(mid(ans_range))\n",
    "ans_size"
   ]
  },
  {
   "cell_type": "code",
   "execution_count": 22,
   "metadata": {},
   "outputs": [
    {
     "data": {
      "text/plain": [
       "139"
      ]
     },
     "execution_count": 22,
     "metadata": {},
     "output_type": "execute_result"
    }
   ],
   "source": [
    "original_size = sys.getsizeof(seq)\n",
    "original_size"
   ]
  },
  {
   "cell_type": "code",
   "execution_count": 23,
   "metadata": {},
   "outputs": [
    {
     "data": {
      "text/plain": [
       "'%.2f'"
      ]
     },
     "execution_count": 23,
     "metadata": {},
     "output_type": "execute_result"
    }
   ],
   "source": [
    "%precision %.2f"
   ]
  },
  {
   "cell_type": "markdown",
   "metadata": {},
   "source": [
    "#### Total savings in percent"
   ]
  },
  {
   "cell_type": "code",
   "execution_count": 24,
   "metadata": {},
   "outputs": [
    {
     "data": {
      "text/plain": [
       "17.27"
      ]
     },
     "execution_count": 24,
     "metadata": {},
     "output_type": "execute_result"
    }
   ],
   "source": [
    "ans_size/original_size * 100"
   ]
  },
  {
   "cell_type": "markdown",
   "metadata": {},
   "source": [
    "#### Visualizing the transition matrix of the Markov model"
   ]
  },
  {
   "cell_type": "code",
   "execution_count": 25,
   "metadata": {},
   "outputs": [],
   "source": [
    "import numpy as np\n",
    "import pandas as pd\n",
    "import seaborn as sns\n",
    "import matplotlib.pyplot as plt\n",
    "import sys"
   ]
  },
  {
   "cell_type": "code",
   "execution_count": 26,
   "metadata": {},
   "outputs": [
    {
     "data": {
      "text/plain": [
       "<matplotlib.axes._subplots.AxesSubplot at 0x1a23ddf978>"
      ]
     },
     "execution_count": 26,
     "metadata": {},
     "output_type": "execute_result"
    },
    {
     "data": {
      "image/png": "[encoded data removed]",
      "text/plain": [
       "<Figure size 288x3600 with 2 Axes>"
      ]
     },
     "metadata": {
      "needs_background": "light"
     },
     "output_type": "display_data"
    }
   ],
   "source": [
    "f, ax = plt.subplots(figsize=(4, 50))\n",
    "sns.heatmap(list(markov_prob.values()), cmap='Reds', annot=True, yticklabels=markov_prob.keys(), xticklabels=seq_dict.keys(), ax=ax)"
   ]
  },
  {
   "cell_type": "markdown",
   "metadata": {},
   "source": [
    "#### Function to calculate entropy"
   ]
  },
  {
   "cell_type": "markdown",
   "metadata": {},
   "source": [
    "$Entropy\\; H(X) = -\\sum p(X)\\log p(X)$"
   ]
  },
  {
   "cell_type": "code",
   "execution_count": 27,
   "metadata": {},
   "outputs": [],
   "source": [
    "import math"
   ]
  },
  {
   "cell_type": "code",
   "execution_count": 28,
   "metadata": {},
   "outputs": [],
   "source": [
    "def entropy_symbol(symbol, given_symbol):\n",
    "    if len(given_symbol) != k or len(symbol) != 1:\n",
    "        print('ERROR: Provide correct length parameters')\n",
    "        return -1\n",
    "    prob = markov_prob[given_symbol][seq_dict[symbol]]\n",
    "    return prob * (-1*math.log2(prob))"
   ]
  },
  {
   "cell_type": "code",
   "execution_count": 29,
   "metadata": {},
   "outputs": [
    {
     "data": {
      "text/plain": [
       "0.53"
      ]
     },
     "execution_count": 29,
     "metadata": {},
     "output_type": "execute_result"
    }
   ],
   "source": [
    "entropy_symbol('G', 'GTA')"
   ]
  }
 ],
 "metadata": {
  "kernelspec": {
   "display_name": "Python 3",
   "language": "python",
   "name": "python3"
  },
  "language_info": {
   "codemirror_mode": {
    "name": "ipython",
    "version": 3
   },
   "file_extension": ".py",
   "mimetype": "text/x-python",
   "name": "python",
   "nbconvert_exporter": "python",
   "pygments_lexer": "ipython3",
   "version": "3.7.5"
  }
 },
 "nbformat": 4,
 "nbformat_minor": 4
}
