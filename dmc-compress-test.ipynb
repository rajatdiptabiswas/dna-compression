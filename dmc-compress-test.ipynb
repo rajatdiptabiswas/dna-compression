{
 "cells": [
  {
   "cell_type": "markdown",
   "metadata": {},
   "source": [
    "# Compressing a file\n",
    "### Using dynamic Markov compression"
   ]
  },
  {
   "cell_type": "markdown",
   "metadata": {},
   "source": [
    "#### Contents of the text file before compression"
   ]
  },
  {
   "cell_type": "code",
   "execution_count": 3,
   "metadata": {},
   "outputs": [
    {
     "name": "stdout",
     "output_type": "stream",
     "text": [
      "sequence\tclass\n",
      "ATGCCCCAACTAAATACTACCGTATGGCCCACCATAATTACCCCCATACTCCTTACACTATTCCTCATCACCCAACTAAAAATATTAAACACAAACTACCACCTACCTCCCTCACCAAAGCCCATAAAAATAAAAAATTATAACAAACCCTGAGAACCAAAATGAACGAAAATCTGTTCGCTTCATTCATTGCCCCCACAATCCTAG\t4\n",
      "ATGAACGAAAATCTGTTCGCTTCATTCATTGCCCCCACAATCCTAGGCCTACCCGCCGCAGTACTGATCATTCTATTTCCCCCTCTATTGATCCCCACCTCCAAATATCTCATCAACAACCGACTAATCACCACCCAACAATGACTAATCAAACTAACCTCAAAACAAATGATAACCATACACAACACTAAAGGACGAACCTGATCTCTTATACTAGTATCCTTAATCATTTTTATTGCCACAACTAACCTCCTCGGACTCCTGCCTCACTCATTTACACCAACCACCCAACTATCTATAAACCTAGCCATGGCCATCCCCTTATGAGCGGGCACAGTGATTATAGGCTTTCGCTCTAAGATTAAAAATGCCCTAGCCCACTTCTTACCACAAGGCACACCTACACCCCTTATCCCCATACTAGTTATTATCGAAACCATCAGCCTACTCATTCAACCAATAGCCCTGGCCGTACGCCTAACCGCTAACATTACTGCAGGCCACCTACTCATGCACCTAATTGGAAGCGCCACCCTAGCAATATCAACCATTAACCTTCCCTCTACACTTATCATCTTCACAATTCTAATTCTACTGACTATCCTAGAAATCGCTGTCGCCTTAATCCAAGCCTACGTTTTCACACTTCTAGTAAGCCTCTACCTGCACGACAACACATAA\t4\n"
     ]
    }
   ],
   "source": [
    "!head -n 3 ./data/human_data.txt"
   ]
  },
  {
   "cell_type": "markdown",
   "metadata": {},
   "source": [
    "#### Compiling the file"
   ]
  },
  {
   "cell_type": "code",
   "execution_count": 5,
   "metadata": {},
   "outputs": [],
   "source": [
    "!gcc ./library/dmc.c -w -o ./library/dmc"
   ]
  },
  {
   "cell_type": "markdown",
   "metadata": {},
   "source": [
    "#### Performing compression"
   ]
  },
  {
   "cell_type": "markdown",
   "metadata": {},
   "source": [
    "**Usage:** `dmc [cd] <input >output`"
   ]
  },
  {
   "cell_type": "code",
   "execution_count": 6,
   "metadata": {},
   "outputs": [
    {
     "name": "stdout",
     "output_type": "stream",
     "text": [
      "using 16777216 bytes of predictor memory\n",
      "flushing ..... bytes in 393216, bytes out 77615, ratio 0.197385\n",
      "flushing ..... bytes in 851968, bytes out 171528, ratio 0.201332\n",
      "flushing ..... bytes in 1245184, bytes out 243964, ratio 0.195926\n",
      "flushing ..... bytes in 1703936, bytes out 332268, ratio 0.195000\n",
      "flushing ..... bytes in 2097152, bytes out 405253, ratio 0.193240\n",
      "flushing ..... bytes in 2555904, bytes out 494057, ratio 0.193300\n",
      "flushing ..... bytes in 2949120, bytes out 571889, ratio 0.193919\n",
      "flushing ..... bytes in 3407872, bytes out 661386, ratio 0.194076\n",
      "flushing ..... bytes in 3801088, bytes out 735439, ratio 0.193481\n",
      "flushing ..... bytes in 4259840, bytes out 819396, ratio 0.192354\n",
      "flushing ..... bytes in 4653056, bytes out 900667, ratio 0.193565\n",
      "flushing ..... bytes in 5111808, bytes out 995949, ratio 0.194833\n",
      "compress done: bytes in 5552098, bytes out 1066784, ratio 0.192141\n"
     ]
    }
   ],
   "source": [
    "!./library/dmc c <./data/human_data.txt >./data/human_data_compressed"
   ]
  },
  {
   "cell_type": "markdown",
   "metadata": {},
   "source": [
    "#### Contents of the text file after compression"
   ]
  },
  {
   "cell_type": "code",
   "execution_count": 7,
   "metadata": {},
   "outputs": [
    {
     "name": "stdout",
     "output_type": "stream",
     "text": [
      "ɕN�y��e��]3�nO��s\u0004F�+|'��\u001c",
      "\tk��V�\t�~��O\u0016x�\u0004�yt�\u0002\u0006�\u0015���1��7%�\u000b",
      "�tU���xK?�$�,���L�l�,�m7���wd�\u0019\u0019Sgq�}��Tܴ��;e�Eu��k\n",
      "�\u0015T�\u0018\u000e�\u001c",
      "�b\u0001I�O2�ˎ1��Nx.\u0007y���4�l'��9n��iP���^w��yO~\u0004�]\u001d",
      "\u000f�qKP|��:a�«\u000b",
      "�?:�\u0002pa��>�qc1E�\u0016�*�L�ﾰ,u\u0001\u001aGl�v���X��2���q\u0014\u0014�#\u0004�\u0002�֘�3�V�\u0003O\u0019H�J�\u0018�\f",
      "\u000b",
      "�is�6q\u00035��\u0010\\Jڪ�U�r��xǀQ\u001e",
      "ơ��[)��}�(�D�h1��ܐ�y g\u001e",
      "����s�=\tT���r%�o����\u001fe'�b\u001e",
      "�?>JZ6nI��`݌$BQ��R\u001c",
      "X�Fo�<�\u001b�#\u001e",
      "�}��OQe)7�\"��gڎ��꙼I�ˢ�_������u�k'�)�\u0007Z�3��\u0003&@\u0003fx%\n",
      "�\u0007���V�2\u0002QEݫ��\\�(J\u0004d��/��&4=\u0019�t�-}o��v�\u000f��xk�ۜ��(��\u001e",
      "��uP��\"���/|�����Ƙ�B�Wk�tޫаj�j�&�\u0003�\"�����P��ۮ��}\t\u0018l\n"
     ]
    }
   ],
   "source": [
    "!head -n 3 ./data/human_data_compressed"
   ]
  },
  {
   "cell_type": "markdown",
   "metadata": {},
   "source": [
    "#### Performing decompression"
   ]
  },
  {
   "cell_type": "code",
   "execution_count": 9,
   "metadata": {},
   "outputs": [
    {
     "name": "stdout",
     "output_type": "stream",
     "text": [
      "using 16777216 bytes of predictor memory\n",
      "flushing ...\n",
      "flushing ...\n",
      "flushing ...\n",
      "flushing ...\n",
      "flushing ...\n",
      "flushing ...\n",
      "flushing ...\n",
      "flushing ...\n",
      "flushing ...\n",
      "flushing ...\n",
      "flushing ...\n",
      "flushing ...\n",
      "expand: input 1066784 output 5552098\n"
     ]
    }
   ],
   "source": [
    "!./library/dmc d <./data/human_data_compressed >./data/human_data_uncompressed.txt"
   ]
  },
  {
   "cell_type": "markdown",
   "metadata": {},
   "source": [
    "#### Contents of the file after decompression"
   ]
  },
  {
   "cell_type": "code",
   "execution_count": 11,
   "metadata": {},
   "outputs": [
    {
     "name": "stdout",
     "output_type": "stream",
     "text": [
      "sequence\tclass\n",
      "ATGCCCCAACTAAATACTACCGTATGGCCCACCATAATTACCCCCATACTCCTTACACTATTCCTCATCACCCAACTAAAAATATTAAACACAAACTACCACCTACCTCCCTCACCAAAGCCCATAAAAATAAAAAATTATAACAAACCCTGAGAACCAAAATGAACGAAAATCTGTTCGCTTCATTCATTGCCCCCACAATCCTAG\t4\n",
      "ATGAACGAAAATCTGTTCGCTTCATTCATTGCCCCCACAATCCTAGGCCTACCCGCCGCAGTACTGATCATTCTATTTCCCCCTCTATTGATCCCCACCTCCAAATATCTCATCAACAACCGACTAATCACCACCCAACAATGACTAATCAAACTAACCTCAAAACAAATGATAACCATACACAACACTAAAGGACGAACCTGATCTCTTATACTAGTATCCTTAATCATTTTTATTGCCACAACTAACCTCCTCGGACTCCTGCCTCACTCATTTACACCAACCACCCAACTATCTATAAACCTAGCCATGGCCATCCCCTTATGAGCGGGCACAGTGATTATAGGCTTTCGCTCTAAGATTAAAAATGCCCTAGCCCACTTCTTACCACAAGGCACACCTACACCCCTTATCCCCATACTAGTTATTATCGAAACCATCAGCCTACTCATTCAACCAATAGCCCTGGCCGTACGCCTAACCGCTAACATTACTGCAGGCCACCTACTCATGCACCTAATTGGAAGCGCCACCCTAGCAATATCAACCATTAACCTTCCCTCTACACTTATCATCTTCACAATTCTAATTCTACTGACTATCCTAGAAATCGCTGTCGCCTTAATCCAAGCCTACGTTTTCACACTTCTAGTAAGCCTCTACCTGCACGACAACACATAA\t4\n"
     ]
    }
   ],
   "source": [
    "!head -n 3 ./data/human_data_uncompressed.txt"
   ]
  },
  {
   "cell_type": "markdown",
   "metadata": {},
   "source": [
    "#### Calculating compression ratio"
   ]
  },
  {
   "cell_type": "code",
   "execution_count": 12,
   "metadata": {},
   "outputs": [],
   "source": [
    "import os"
   ]
  },
  {
   "cell_type": "markdown",
   "metadata": {},
   "source": [
    "Size of text file in bytes"
   ]
  },
  {
   "cell_type": "code",
   "execution_count": 13,
   "metadata": {},
   "outputs": [
    {
     "data": {
      "text/plain": [
       "5552098"
      ]
     },
     "execution_count": 13,
     "metadata": {},
     "output_type": "execute_result"
    }
   ],
   "source": [
    "os.path.getsize('./data/human_data.txt')"
   ]
  },
  {
   "cell_type": "markdown",
   "metadata": {},
   "source": [
    "Size of compressed file in bytes"
   ]
  },
  {
   "cell_type": "code",
   "execution_count": 14,
   "metadata": {},
   "outputs": [
    {
     "data": {
      "text/plain": [
       "1066784"
      ]
     },
     "execution_count": 14,
     "metadata": {},
     "output_type": "execute_result"
    }
   ],
   "source": [
    "os.path.getsize('./data/human_data_compressed')"
   ]
  },
  {
   "cell_type": "markdown",
   "metadata": {},
   "source": [
    "Compression ratio"
   ]
  },
  {
   "cell_type": "code",
   "execution_count": 17,
   "metadata": {},
   "outputs": [
    {
     "data": {
      "text/plain": [
       "19.214070068647924"
      ]
     },
     "execution_count": 17,
     "metadata": {},
     "output_type": "execute_result"
    }
   ],
   "source": [
    "os.path.getsize('./data/human_data_compressed') / os.path.getsize('./data/human_data_uncompressed.txt') * 100"
   ]
  },
  {
   "cell_type": "markdown",
   "metadata": {},
   "source": [
    "The compression ratio for the compression is **19.21%**"
   ]
  }
 ],
 "metadata": {
  "kernelspec": {
   "display_name": "Python 3",
   "language": "python",
   "name": "python3"
  },
  "language_info": {
   "codemirror_mode": {
    "name": "ipython",
    "version": 3
   },
   "file_extension": ".py",
   "mimetype": "text/x-python",
   "name": "python",
   "nbconvert_exporter": "python",
   "pygments_lexer": "ipython3",
   "version": "3.7.5"
  }
 },
 "nbformat": 4,
 "nbformat_minor": 4
}
