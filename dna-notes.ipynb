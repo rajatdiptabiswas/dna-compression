{
 "cells": [
  {
   "cell_type": "markdown",
   "metadata": {},
   "source": [
    "# DNA Compression Notes"
   ]
  },
  {
   "cell_type": "markdown",
   "metadata": {},
   "source": [
    "### What is DNA sequencing?\n",
    "\n",
    "It is the process of determining the nucleic acid sequence – the order of nucleotides in DNA. It includes any method or technology that is used to determine the order of the four bases: adenine, guanine, cytosine, and thymine. \n",
    "\n",
    "The advent of rapid DNA sequencing methods (e.g. Next-Generation Sequencing) has greatly accelerated biological and medical research and discovery. \n",
    "\n",
    "Huge volumes of data is being created by DNA sequencing and hence compression algorithms need to be applied so that they can be easily and efficiently transferred over networks and stored."
   ]
  },
  {
   "cell_type": "markdown",
   "metadata": {},
   "source": [
    "### Common terms\n",
    "\n",
    "- **Nucleobase**\n",
    "> Nucleobases are naturally occurring compounds, which form the differentiating component of nucleotides; five bases occur in nature, three of which are common to RNA and DNA (uracil replaces thymine in RNA).\n",
    "- **Nucleotide**\n",
    "> Nucleotides form the structural unit (i.e., monomer) of nucleic acids. Each nucleotide comprises a sugar, a phosphate, and a base. In each of RNA and DNA, the sugar and phosphate molecules are the same in each nucleotide, with variation arising from the choice of four different bases. Nucleotides can be divided into two classes based on the chemical structure of their bases. Purines constitute adenosine and guanine, whereas pyrimidines correspond to cytosine, thymine, and uracil. \n",
    "- **Genome**\n",
    "> A genome is the collection of an organism's hereditary information as encoded in its DNA. For most life forms, DNA is assembled into chromosomes; in the figure below, we show an image depicting all of a human male's chromosomes, which is called a karyotype. The individuals of a species share the vast majority of their DNA (humans share about 99.9% of our genome), and so we may also refer to the collective genome of a species.\n",
    "- **Gene**\n",
    "> A gene is an interval (or collection of intervals) of DNA whose nucleotides are transcribed into mRNA and eventually expressed in the cell's function by being translated into protein. Because the creation of proteins determines the organism's function, genes are also viewed as units of heredity; alleles are encoded by (often slight) variations in genes. Genes form only about a quarter of the human genome.\n",
    "- **DNA Sequence**\n",
    "> The precise ordering of the bases (A, T, G, C) from which DNA is composed. Base pairs form naturally only between A and T and between G and C, so the base sequence of each single strand of DNA can be simply deduced from that of its partner strand."
   ]
  },
  {
   "cell_type": "markdown",
   "metadata": {},
   "source": [
    "### Sanger Sequencing vs Next-Generation Sequencing\n",
    "\n",
    "The concepts behind Sanger vs. next-generation sequencing (NGS) technologies are similar. In both NGS and Sanger sequencing, DNA polymerase adds fluorescent nucleotides one by one onto a growing DNA template strand. Each incorporated nucleotide is identified by its fluorescent tag.\n",
    "\n",
    "The critical difference between Sanger sequencing and NGS is sequencing volume. While the Sanger method only sequences a single DNA fragment at a time, NGS is massively parallel, sequencing millions of fragments simultaneously per run. This high-throughput process translates into sequencing hundreds to thousands of genes at one time. NGS also offers greater discovery power to detect novel or rare variants with deep sequencing.\n",
    "\n",
    "Features that distinguish next-gen sequencing from Sanger sequencing:\n",
    "- **Highly parallel**\n",
    "- **Micro scale**\n",
    "- **Fast**\n",
    "- **Low-cost**\n",
    "- **Shorter length**\n",
    "\n",
    "Next-generation sequencing is similar to running a very large number of tiny Sanger sequencing reactions in parallel. Thanks to this parallelization and small scale, large quantities of DNA can be sequenced much more quickly and cheaply with next-generation methods than with Sanger sequencing. \n",
    "\n",
    "<!-- | Year  | Cost (\\$)  |\n",
    "|-------|-----------:|\n",
    "| 2001  | 100,000,000|\n",
    "| 2015  | 1245       |  -->"
   ]
  },
  {
   "cell_type": "markdown",
   "metadata": {},
   "source": [
    "### Types of DNA file formats\n",
    "\n",
    "Genomes are commonly stored in the following file formats:\n",
    "- **FASTA** \n",
    "> Stores a variable number of sequence records, and for each record it stores the sequence itself, and a sequence ID. Each record starts with a header line whose first character is >, followed by the sequence ID. The next lines of a record contain the actual sequence. In the context of nucleotide sequences, FASTA is mostly used to store reference data; that is, data extracted from a curated database.\n",
    "- **FASTQ**\n",
    "> Due to how different sequencing technologies work, the estimated probability of having correctly identified a given nucleotide varies. This is expressed in the Phred quality score. FASTA had no standardised way of encoding this. By contrast, a FASTQ record contains a sequence of quality scores for each nucleotide."
   ]
  },
  {
   "cell_type": "markdown",
   "metadata": {},
   "source": [
    "### FASTA\n",
    "\n",
    "FASTA format is a text-based format for representing either nucleotide sequences or peptide sequences, in which base pairs or amino acids are represented using single-letter codes. A sequence in FASTA format begins with a single-line description, followed by lines of sequence data. The description line is distinguished from the sequence data by a greater-than (\">\") symbol in the first column.\n",
    "\n",
    "An example sequence in FASTA format is:\n",
    "```\n",
    ">gi|186681228|ref|YP_001864424.1| phycoerythrobilin:ferredoxin oxidoreductase\n",
    "MNSERSDVTLYQPFLDYAIAYMRSRLDLEPYPIPTGFESNSAVVGKGKNQEEVVTTSYAFQTAKLRQIRA\n",
    "AHVQGGNSLQVLNFVIFPHLNYDLPFFGADLVTLPGGHLIALDMQPLFRDDSAYQAKYTEPILPIFHAHQ\n",
    "QHLSWGGDFPEEAQPFFSPAFLWTRPQETAVVETQVFAAFKDYLKAYLDFVEQAEAVTDSQNLVAIKQAQ\n",
    "LRYLRYRAEKDPARGMFKRFYGAEWTEEYIHGFLFDLERKLTVVK\n",
    "```\n",
    "\n",
    "The nucleic acid codes are:\n",
    "\n",
    "```\n",
    "        A --> adenosine           M --> A C (amino)\n",
    "        C --> cytidine            S --> G C (strong)\n",
    "        G --> guanine             W --> A T (weak)\n",
    "        T --> thymidine           B --> G T C\n",
    "        U --> uridine             D --> G A T\n",
    "        R --> G A (purine)        H --> A C T\n",
    "        Y --> T C (pyrimidine)    V --> G C A\n",
    "        K --> G T (keto)          N --> A G C T (any)\n",
    "                                  -  gap of indeterminate length\n",
    "```\n",
    "\n",
    "The accepted amino acid codes are:\n",
    "```\n",
    "    A ALA alanine                         P PRO proline\n",
    "    B ASX aspartate or asparagine         Q GLN glutamine\n",
    "    C CYS cystine                         R ARG arginine\n",
    "    D ASP aspartate                       S SER serine\n",
    "    E GLU glutamate                       T THR threonine\n",
    "    F PHE phenylalanine                   U     selenocysteine\n",
    "    G GLY glycine                         V VAL valine\n",
    "    H HIS histidine                       W TRP tryptophan\n",
    "    I ILE isoleucine                      Y TYR tyrosine\n",
    "    K LYS lysine                          Z GLX glutamate or glutamine\n",
    "    L LEU leucine                         X     any\n",
    "    M MET methionine                      *     translation stop\n",
    "    N ASN asparagine                      -     gap of indeterminate length\n",
    "```\n",
    "\n",
    "Sequences may be protein sequences or nucleic acid sequences, and they can contain gaps or alignment characters. Sequences are expected to be represented in the standard IUB/IUPAC amino acid and nucleic acid codes, with these exceptions: lower-case letters are accepted and are mapped into upper-case; a single hyphen or dash can be used to represent a gap character; and in amino acid sequences, U and * are acceptable letters (see below). Numerical digits are not allowed but are used in some databases to indicate the position in the sequence. \n",
    "\n",
    "The nucleic acid codes supported are:\n",
    "\n",
    "| Nucleic Acid Code | Meaning | Mnemonic |\n",
    "|-------------------|----------------------------------|-------------------------|\n",
    "| A | A | Adenine |\n",
    "| C | C | Cytosine |\n",
    "| G | G | Guanine |\n",
    "| T | T | Thymine |\n",
    "| U | U | Uracil |\n",
    "| R | A or G | puRine |\n",
    "| Y | C, T or U | pYrimidines |\n",
    "| K | G, T or U | bases which are Ketones |\n",
    "| M | A or C | bases with aMino groups |\n",
    "| S | C or G | Strong interaction |\n",
    "| W | A, T or U | Weak interaction |\n",
    "| B | not A (i.e. C, G, T or U) | B comes after A |\n",
    "| D | not C (i.e. A, G, T or U) | D comes after C |\n",
    "| H | not G (i.e., A, C, T or U) | H comes after G |\n",
    "| V | neither T nor U (i.e. A, C or G) | V comes after U |\n",
    "| N | A C G T U | Nucleic acid |\n",
    "| - | gap of indeterminate length |  |\n",
    "\n",
    "\n",
    "The amino acid codes supported (22 amino acids and 3 special codes) are:\n",
    "\n",
    "| Amino Acid Code | Meaning |\n",
    "|-----------------|-------------------------------------|\n",
    "| A | Alanine |\n",
    "| B | Aspartic acid (D) or Asparagine (N) |\n",
    "| C | Cysteine |\n",
    "| D | Aspartic acid |\n",
    "| E | Glutamic acid |\n",
    "| F | Phenylalanine |\n",
    "| G | Glycine |\n",
    "| H | Histidine |\n",
    "| I | Isoleucine |\n",
    "| J | Leucine (L) or Isoleucine (I) |\n",
    "| K | Lysine |\n",
    "| L | Leucine |\n",
    "| M | Methionine/Start codon |\n",
    "| N | Asparagine |\n",
    "| O | Pyrrolysine |\n",
    "| P | Proline |\n",
    "| Q | Glutamine |\n",
    "| R | Arginine |\n",
    "| S | Serine |\n",
    "| T | Threonine |\n",
    "| U | Selenocysteine |\n",
    "| V | Valine |\n",
    "| W | Tryptophan |\n",
    "| Y | Tyrosine |\n",
    "| Z | Glutamic acid (E) or Glutamine (Q) |\n",
    "| X | any |\n",
    "| * | translation stop |\n",
    "| - | gap of indeterminate length |"
   ]
  },
  {
   "cell_type": "markdown",
   "metadata": {},
   "source": [
    "Printing first 25 lines of `sample.fa`"
   ]
  },
  {
   "cell_type": "code",
   "execution_count": 1,
   "metadata": {},
   "outputs": [
    {
     "name": "stdout",
     "output_type": "stream",
     "text": [
      ">sp|P32320|CDD_HUMAN Cytidine deaminase OS=Homo sapiens OX=9606 GN=CDA PE=1 SV=2\n",
      "MAQKRPACTLKPECVQQLLVCSQEAKKSAYCPYSHFPVGAALLTQEGRIFKGCNIENACY\n",
      "PLGICAERTAIQKAVSEGYKDFRAIAIASDMQDDFISPCGACRQVMREFGTNWPVYMTKP\n",
      "DGTYIVMTVQELLPSSFGPEDLQKTQ\n",
      ">sp|Q9UDY4|DNJB4_HUMAN DnaJ homolog subfamily B member 4 OS=Homo sapiens OX=9606 GN=DNAJB4 PE=1 SV=1\n",
      "MGKDYYCILGIEKGASDEDIKKAYRKQALKFHPDKNKSPQAEEKFKEVAEAYEVLSDPKK\n",
      "REIYDQFGEEGLKGGAGGTDGQGGTFRYTFHGDPHATFAAFFGGSNPFEIFFGRRMGGGR\n",
      "DSEEMEIDGDPFSAFGFSMNGYPRDRNSVGPSRLKQDPPVIHELRVSLEEIYSGCTKRMK\n",
      "ISRKRLNADGRSYRSEDKILTIEIKKGWKEGTKITFPREGDETPNSIPADIVFIIKDKDH\n",
      "PKFKRDGSNIIYTAKISLREALCGCSINVPTLDGRNIPMSVNDIVKPGMRRRIIGYGLPF\n",
      "PKNPDQRGDLLIEFEVSFPDTISSSSKEVLRKHLPAS\n",
      ">sp|Q5SY16|NOL9_HUMAN Polynucleotide 5'-hydroxyl-kinase NOL9 OS=Homo sapiens OX=9606 GN=NOL9 PE=1 SV=1\n",
      "MADSGLLLKRGSCRSTWLRVRKARPQLILSRRPRRRLGSLRWCGRRRLRWRLLQAQASGV\n",
      "DWREGARQVSRAAAARRPNTATPSPIPSPTPASEPESEPELESASSCHRPLLIPPVRPVG\n",
      "PGRALLLLPVEQGFTFSGICRVTCLYGQVQVFGFTISQGQPAQDIFSVYTHSCLSIHALH\n",
      "YSQPEKSKKELKREARNLLKSHLNLDDRRWSMQNFSPQCSIVLLEHLKTATVNFITSYPG\n",
      "SSYIFVQESPTPQIKPEYLALRSVGIRREKKRKGLQLTESTLSALEELVNVSCEEVDGCP\n",
      "VILVCGSQDVGKSTFNRYLINHLLNSLPCVDYLECDLGQTEFTPPGCISLLNITEPVLGP\n",
      "PFTHLRTPQKMVYYGKPSCKNNYENYIDIVKYVFSAYKRESPLIVNTMGWVSDQGLLLLI\n",
      "DLIRLLSPSHVVQFRSDHSKYMPDLTPQYVDDMDGLYTKSKTKMRNRRFRLAAFADALEF\n",
      "ADEEKESPVEFTGHKLIGVYTDFAFRITPRNRESHNKILRDLSILSYLSQLQPPMPKPLS\n",
      "PLHSLTPYQVPFNAVALRITHSDVAPTHILYAVNASWVGLCKIQDDVRGYTNGPILLAQT\n",
      "PICDCLGFGICRGIDMEKRLYHILTPVPPEELRTVNCLLVGAIAIPHCVLKCQRGIEGTV\n",
      "PYVTTDYNFKLPGASEKIGAREPEEAHKEKPYRRPKFCRKMK\n",
      ">sp|Q8NCW5|NNRE_HUMAN NAD(P)H-hydrate epimerase OS=Homo sapiens OX=9606 GN=NAXE PE=1 SV=2\n"
     ]
    }
   ],
   "source": [
    "!head -n 25 ./data/sample.fa"
   ]
  },
  {
   "cell_type": "markdown",
   "metadata": {},
   "source": [
    "### FASTQ\n",
    "\n",
    "FASTQ format is a text-based format for storing both a biological sequence (usually nucleotide sequence) and its corresponding quality scores. Both the sequence letter and quality score are each encoded with a single ASCII character for brevity.\n",
    "\n",
    "A FASTQ file normally uses four lines per sequence.\n",
    "\n",
    "- Line 1 begins with a '@' character and is followed by a sequence identifier and an optional description (like a FASTA title line).\n",
    "- Line 2 is the raw sequence letters.\n",
    "- Line 3 begins with a '+' character and is optionally followed by the same sequence identifier (and any description) again.\n",
    "- Line 4 encodes the quality values for the sequence in Line 2, and must contain the same number of symbols as letters in the sequence.\n",
    "\n",
    "> FastQ -> FASTA with quality\n",
    "\n",
    "A FASTQ file containing a single sequence might look like this:\n",
    "\n",
    "```\n",
    "@SEQ_ID\n",
    "GATTTGGGGTTCAAAGCAGTATCGATCAAATAGTAAATCCATTTGTTCAACTCACAGTTT\n",
    "+\n",
    "!''*((((***+))%%%++)(%%%%).1***-+*''))**55CCF>>>>>>CCCCCCC65\n",
    "```\n",
    "\n",
    "The byte representing quality runs from 0x21 (lowest quality; '!' in ASCII) to 0x7e (highest quality; '~' in ASCII). Here are the quality value characters in left-to-right increasing order of quality (ASCII):\n",
    "```\n",
    "!\"#$%&'()*+,-./0123456789:;<=>?@ABCDEFGHIJKLMNOPQRSTUVWXYZ[\\]^_`abcdefghijklmnopqrstuvwxyz{|}~\n",
    "```"
   ]
  },
  {
   "cell_type": "markdown",
   "metadata": {},
   "source": [
    "Printing first 25 lines of `sample.fq`"
   ]
  },
  {
   "cell_type": "code",
   "execution_count": 2,
   "metadata": {},
   "outputs": [
    {
     "name": "stdout",
     "output_type": "stream",
     "text": [
      "@cluster_2:UMI_ATTCCG\n",
      "TTTCCGGGGCACATAATCTTCAGCCGGGCGC\n",
      "+\n",
      "9C;=;=<9@4868>9:67AA<9>65<=>591\n",
      "@cluster_8:UMI_CTTTGA\n",
      "TATCCTTGCAATACTCTCCGAACGGGAGAGC\n",
      "+\n",
      "1/04.72,(003,-2-22+00-12./.-.4-\n",
      "@cluster_12:UMI_GGTCAA\n",
      "GCAGTTTAAGATCATTTTATTGAAGAGCAAG\n",
      "+\n",
      "?7?AEEC@>=1?A?EEEB9ECB?==:B.A?A\n",
      "@cluster_21:UMI_AGAACA\n",
      "GGCATTGCAAAATTTATTACACCCCCAGATC\n",
      "+\n",
      ">=2.660/?:36AD;0<14703640334-//\n",
      "@cluster_29:UMI_GCAGGA\n",
      "CCCCCTTAAATAGCTGTTTATTTGGCCCCAG\n",
      "+\n",
      "8;;;>DC@DAC=B?C@9?B?CDCB@><<??A\n",
      "@cluster_34:UMI_AGCTCA\n",
      "TCTTGCAAAAACTCCTAGATCGGAAGAGCAC\n",
      "+\n",
      "-/CA:+<599803./2065?6=<>90;?150\n",
      "@cluster_36:UMI_AACAGA\n"
     ]
    }
   ],
   "source": [
    "!head -n 25 ./data/sample.fq"
   ]
  },
  {
   "cell_type": "markdown",
   "metadata": {},
   "source": [
    "### Using `Biopython` library to import data"
   ]
  },
  {
   "cell_type": "code",
   "execution_count": 3,
   "metadata": {},
   "outputs": [],
   "source": [
    "from Bio import SeqIO"
   ]
  },
  {
   "cell_type": "markdown",
   "metadata": {},
   "source": [
    "#### Importing FASTA Sequence"
   ]
  },
  {
   "cell_type": "code",
   "execution_count": 4,
   "metadata": {},
   "outputs": [
    {
     "name": "stdout",
     "output_type": "stream",
     "text": [
      "6003\n",
      "['MAQKRPACTLKPECVQQLLVCSQEAKKSAYCPYSHFPVGAALLTQEGRIFKGCNIENACYPLGICAERTAIQKAVSEGYKDFRAIAIASDMQDDFISPCGACRQVMREFGTNWPVYMTKPDGTYIVMTVQELLPSSFGPEDLQKTQ', 'MGKDYYCILGIEKGASDEDIKKAYRKQALKFHPDKNKSPQAEEKFKEVAEAYEVLSDPKKREIYDQFGEEGLKGGAGGTDGQGGTFRYTFHGDPHATFAAFFGGSNPFEIFFGRRMGGGRDSEEMEIDGDPFSAFGFSMNGYPRDRNSVGPSRLKQDPPVIHELRVSLEEIYSGCTKRMKISRKRLNADGRSYRSEDKILTIEIKKGWKEGTKITFPREGDETPNSIPADIVFIIKDKDHPKFKRDGSNIIYTAKISLREALCGCSINVPTLDGRNIPMSVNDIVKPGMRRRIIGYGLPFPKNPDQRGDLLIEFEVSFPDTISSSSKEVLRKHLPAS', 'MADSGLLLKRGSCRSTWLRVRKARPQLILSRRPRRRLGSLRWCGRRRLRWRLLQAQASGVDWREGARQVSRAAAARRPNTATPSPIPSPTPASEPESEPELESASSCHRPLLIPPVRPVGPGRALLLLPVEQGFTFSGICRVTCLYGQVQVFGFTISQGQPAQDIFSVYTHSCLSIHALHYSQPEKSKKELKREARNLLKSHLNLDDRRWSMQNFSPQCSIVLLEHLKTATVNFITSYPGSSYIFVQESPTPQIKPEYLALRSVGIRREKKRKGLQLTESTLSALEELVNVSCEEVDGCPVILVCGSQDVGKSTFNRYLINHLLNSLPCVDYLECDLGQTEFTPPGCISLLNITEPVLGPPFTHLRTPQKMVYYGKPSCKNNYENYIDIVKYVFSAYKRESPLIVNTMGWVSDQGLLLLIDLIRLLSPSHVVQFRSDHSKYMPDLTPQYVDDMDGLYTKSKTKMRNRRFRLAAFADALEFADEEKESPVEFTGHKLIGVYTDFAFRITPRNRESHNKILRDLSILSYLSQLQPPMPKPLSPLHSLTPYQVPFNAVALRITHSDVAPTHILYAVNASWVGLCKIQDDVRGYTNGPILLAQTPICDCLGFGICRGIDMEKRLYHILTPVPPEELRTVNCLLVGAIAIPHCVLKCQRGIEGTVPYVTTDYNFKLPGASEKIGAREPEEAHKEKPYRRPKFCRKMK', 'MSRLRALLGLGLLVAGSRVPRIKSQTIACRSGPTWWGPQRLNSGGRWDSEVMASTVVKYLSQEEAQAVDQELFNEYQFSVDQLMELAGLSCATAIAKAYPPTSMSRSPPTVLVICGPGNNGGDGLVCARHLKLFGYEPTIYYPKRPNKPLFTALVTQCQKMDIPFLGEMPAEPMTIDELYELVVDAIFGFSFKGDVREPFHSILSVLKGLTVPIASIDIPSGWDVEKGNAGGIQPDLLISLTAPKKSATQFTGRYHYLGGRFVPPALEKKYQLNLPPYPDTECVYRLQ', 'MQNYKYDKAIVPESKNGGSPALNNNPRRSGSKRVLLICLDLFCLFMAGLPFLIIETSTIKPYHRGFYCNDESIKYPLKTGETINDAVLCAVGIVIAILAIITGEFYRIYYLKKSRSTIQNPYVAALYKQVGCFLFGCAISQSFTDIAKVSIGRLRPHFLSVCNPDFSQINCSEGYIQNYRCRGDDSKVQEARKSFFSGHASFSMYTMLYLVLYLQARFTWRGARLLRPLLQFTLIMMAFYTGLSRVSDHKHHPSDVLAGFAQGALVACCIVFFVSDLFKTKTTLSLPAPAIRKEILSPVDIIDRNNHHNMM']\n"
     ]
    }
   ],
   "source": [
    "fasta_sequences = SeqIO.parse(open('data/sample.fa'),'fasta')\n",
    "fasta_seq = [str(fasta.seq) for fasta in fasta_sequences]\n",
    "\n",
    "# printing length of sequences\n",
    "print(len(fasta_seq))\n",
    "\n",
    "# printing first 5 sequences\n",
    "print(fasta_seq[:5])"
   ]
  },
  {
   "cell_type": "markdown",
   "metadata": {},
   "source": [
    "#### Importing FASTQ Sequence"
   ]
  },
  {
   "cell_type": "code",
   "execution_count": 5,
   "metadata": {},
   "outputs": [
    {
     "name": "stdout",
     "output_type": "stream",
     "text": [
      "250\n",
      "['TTTCCGGGGCACATAATCTTCAGCCGGGCGC', 'TATCCTTGCAATACTCTCCGAACGGGAGAGC', 'GCAGTTTAAGATCATTTTATTGAAGAGCAAG', 'GGCATTGCAAAATTTATTACACCCCCAGATC', 'CCCCCTTAAATAGCTGTTTATTTGGCCCCAG']\n"
     ]
    }
   ],
   "source": [
    "fastq_sequences = SeqIO.parse(open('data/sample.fq'),'fastq')\n",
    "fastq_seq = [str(fastq.seq) for fastq in fastq_sequences]\n",
    "\n",
    "# printing length of sequences\n",
    "print(len(fastq_seq))\n",
    "\n",
    "# printing first 5 sequences\n",
    "print(fastq_seq[:5])"
   ]
  },
  {
   "cell_type": "markdown",
   "metadata": {},
   "source": [
    "### Basic Techniques for DNA Compression\n",
    "\n",
    "The increasing number of (re)sequenced genomes has lead to many proposals for compression algorithms\n",
    "\n",
    "- **Naive bit encoding** algorithms exploit fixed-length encodings of two or more symbols in a single byte.\n",
    "- **Dictionary-based** or substitutional compression algorithms replace re- peated substrings by references to a dictionary (i.e., a set of previously seen or predefined common strings), which is built at runtime or offline.\n",
    "- **Statistical** or entropy encoding algorithms derive a probabilistic model from the input. Based on partial matches of subsets of the input, this model predicts the next symbols in the sequence. High compression rates are possible if the model always indicates high probabilities for the next symbol, i.e., if the prediction is reliable.\n",
    "- **Referential** or reference-based approaches recently emerged as a fourth type of sequence compression algorithm. Similar to dictionary-based tech- niques, these algorithms replace long substrings of the to-be-compressed input with references to another string. However, these references point to external sequences, which are not part of the to-be-compressed input data. Furthermore, the reference is usually static, while dictionaries are being extended during the compression phase."
   ]
  },
  {
   "cell_type": "code",
   "execution_count": null,
   "metadata": {},
   "outputs": [],
   "source": []
  }
 ],
 "metadata": {
  "kernelspec": {
   "display_name": "Python 3",
   "language": "python",
   "name": "python3"
  },
  "language_info": {
   "codemirror_mode": {
    "name": "ipython",
    "version": 3
   },
   "file_extension": ".py",
   "mimetype": "text/x-python",
   "name": "python",
   "nbconvert_exporter": "python",
   "pygments_lexer": "ipython3",
   "version": "3.7.5"
  }
 },
 "nbformat": 4,
 "nbformat_minor": 4
}
